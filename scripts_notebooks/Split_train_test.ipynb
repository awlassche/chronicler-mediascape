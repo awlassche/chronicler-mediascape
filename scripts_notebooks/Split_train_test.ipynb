{
 "cells": [
  {
   "cell_type": "code",
   "execution_count": 22,
   "metadata": {},
   "outputs": [],
   "source": [
    "import pandas as pd\n",
    "import glob\n",
    "import os"
   ]
  },
  {
   "cell_type": "markdown",
   "metadata": {},
   "source": [
    "## Split train and test for every volume"
   ]
  },
  {
   "cell_type": "code",
   "execution_count": 46,
   "metadata": {},
   "outputs": [],
   "source": [
    "all_feature_files = glob.glob(os.path.join('../output/alle_Brug_Wall/*.csv'))\n",
    "\n",
    "for file in all_feature_files:\n",
    "    df = pd.read_csv(file, sep='\\t')\n",
    "    df_train = df.iloc[:(len(df) - round(len(df)*0.3)), :]\n",
    "    df_test = df.iloc[len(df) - round(len(df)*0.3):, :]\n",
    "    df_train.to_csv(file[:-4] + '_train.csv', sep='\\t')\n",
    "    df_test.to_csv(file[:-4] + '_test.csv', sep='\\t')"
   ]
  },
  {
   "cell_type": "markdown",
   "metadata": {},
   "source": [
    "## Merge train files"
   ]
  },
  {
   "cell_type": "code",
   "execution_count": 49,
   "metadata": {},
   "outputs": [],
   "source": [
    "all_train_files = glob.glob(os.path.join('../output/alle_Brug_Wall/*train.csv'))\n",
    "\n",
    "file_list = []\n",
    "for file in all_train_files:\n",
    "    df = pd.read_csv(file, sep='\\t', index_col = 0)\n",
    "    file_list.append(df)\n",
    "\n",
    "total = pd.concat(file_list, ignore_index=True, sort=False).set_index('token').drop(['Unnamed: 0.1', 'sentence_id'], 1)\n",
    "total.to_csv('../output/alle_Brug_Wall/alle_Brug_Wall_train.csv')"
   ]
  },
  {
   "cell_type": "markdown",
   "metadata": {},
   "source": [
    "## Merge test files"
   ]
  },
  {
   "cell_type": "code",
   "execution_count": 53,
   "metadata": {},
   "outputs": [],
   "source": [
    "all_test_files = glob.glob(os.path.join('../output/alle_Brug_Wall/*test.csv'))\n",
    "\n",
    "file_list = []\n",
    "for file in all_test_files:\n",
    "    df = pd.read_csv(file, sep='\\t', index_col = 0)\n",
    "    file_list.append(df)\n",
    "\n",
    "total = pd.concat(file_list, ignore_index=True, sort=False).set_index('token').drop(['Unnamed: 0.1', 'sentence_id'], 1)\n",
    "total.to_csv('../output/alle_Brug_Wall/alle_Brug_Wall_test.csv')"
   ]
  }
 ],
 "metadata": {
  "kernelspec": {
   "display_name": "Python 3",
   "language": "python",
   "name": "python3"
  },
  "language_info": {
   "codemirror_mode": {
    "name": "ipython",
    "version": 3
   },
   "file_extension": ".py",
   "mimetype": "text/x-python",
   "name": "python",
   "nbconvert_exporter": "python",
   "pygments_lexer": "ipython3",
   "version": "3.6.8"
  }
 },
 "nbformat": 4,
 "nbformat_minor": 2
}
