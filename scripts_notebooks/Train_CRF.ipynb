{
 "cells": [
  {
   "cell_type": "code",
   "execution_count": 1,
   "metadata": {},
   "outputs": [],
   "source": [
    "import glob\n",
    "import string\n",
    "import fileinput\n",
    "import pandas as pd\n",
    "import numpy as np\n",
    "import sklearn\n",
    "import sklearn_crfsuite\n",
    "from sklearn_crfsuite import scorers\n",
    "from sklearn_crfsuite import metrics\n",
    "import scipy.stats\n",
    "from sklearn.metrics import make_scorer\n",
    "from sklearn.model_selection import cross_val_score\n",
    "from sklearn.model_selection import RandomizedSearchCV"
   ]
  },
  {
   "cell_type": "markdown",
   "metadata": {},
   "source": [
    "## Define features"
   ]
  },
  {
   "cell_type": "code",
   "execution_count": 2,
   "metadata": {},
   "outputs": [],
   "source": [
    "def word2features(sent, i):\n",
    "    word = sent[i][1]\n",
    "    vector = sent[i][3:102]\n",
    "\n",
    "    features = {\n",
    "        'bias': 1.0,\n",
    "        'word.lower()': word.lower(),\n",
    "        'word[5:]': word[5:],\n",
    "        'word[-5:]': word[-5:],\n",
    "        'word.isdigit()': word.isdigit(),\n",
    "        'vector': vector,\n",
    "    }\n",
    "    if i > 0:\n",
    "        word1 = sent[i-1][1]\n",
    "        vector1 = sent[i-1][3:102]\n",
    "        features.update({\n",
    "            '-1:word.lower()': word1.lower(),\n",
    "            '-1:word[5:]': word1[5:],\n",
    "            '-1:word[-5:]': word1[-5:],\n",
    "            '-1:word.isdigit()': word1.isdigit(),\n",
    "            '-1vector': vector1,\n",
    "        })\n",
    "    else:\n",
    "        features['BOS'] = True\n",
    "\n",
    "    if i < len(sent)-1:\n",
    "        word1 = sent[i+1][1]\n",
    "        vector1 = sent[i+1][3:102]\n",
    "        features.update({\n",
    "            '+1:word.lower()': word1.lower(),\n",
    "            '+1:word[5:]': word1[5:],\n",
    "            '+1:word[-5:]': word1[-5:],\n",
    "            '+1:word.isdigit()': word1.isdigit(),\n",
    "            '+1vector': vector1,\n",
    "        })\n",
    "    else:\n",
    "        features['EOS'] = True\n",
    "\n",
    "    return features\n",
    "\n",
    "\n",
    "def sent2features(sent):\n",
    "    return [word2features(sent, i) for i in range(len(sent))]\n",
    "\n",
    "def sent2labels(sent): #use version of sent without vectors\n",
    "    return [label for nr, token, label in sent]\n",
    "\n",
    "def sent2tokens(sent): #use version of sent without vectors\n",
    "    return [token for nr, token, label in sent]"
   ]
  },
  {
   "cell_type": "markdown",
   "metadata": {},
   "source": [
    "## Prepare train set"
   ]
  },
  {
   "cell_type": "code",
   "execution_count": 2,
   "metadata": {},
   "outputs": [
    {
     "data": {
      "text/html": [
       "<div>\n",
       "<style scoped>\n",
       "    .dataframe tbody tr th:only-of-type {\n",
       "        vertical-align: middle;\n",
       "    }\n",
       "\n",
       "    .dataframe tbody tr th {\n",
       "        vertical-align: top;\n",
       "    }\n",
       "\n",
       "    .dataframe thead th {\n",
       "        text-align: right;\n",
       "    }\n",
       "</style>\n",
       "<table border=\"1\" class=\"dataframe\">\n",
       "  <thead>\n",
       "    <tr style=\"text-align: right;\">\n",
       "      <th></th>\n",
       "      <th>token</th>\n",
       "      <th>label</th>\n",
       "      <th>attribute</th>\n",
       "      <th>vector</th>\n",
       "    </tr>\n",
       "  </thead>\n",
       "  <tbody>\n",
       "    <tr>\n",
       "      <td>0</td>\n",
       "      <td>merckenweerdigste</td>\n",
       "      <td>NaN</td>\n",
       "      <td>NaN</td>\n",
       "      <td>[ 0.1705316  -0.0306047  -0.00223772  0.159865...</td>\n",
       "    </tr>\n",
       "    <tr>\n",
       "      <td>1</td>\n",
       "      <td>voorvallen</td>\n",
       "      <td>NaN</td>\n",
       "      <td>NaN</td>\n",
       "      <td>[ 0.21780282  0.66156584 -0.3282248   0.618386...</td>\n",
       "    </tr>\n",
       "    <tr>\n",
       "      <td>2</td>\n",
       "      <td>en</td>\n",
       "      <td>NaN</td>\n",
       "      <td>NaN</td>\n",
       "      <td>[-0.12152633 -0.34552127  0.6551932   0.300286...</td>\n",
       "    </tr>\n",
       "    <tr>\n",
       "      <td>3</td>\n",
       "      <td>daegelijcksche</td>\n",
       "      <td>NaN</td>\n",
       "      <td>NaN</td>\n",
       "      <td>[ 1.8886597e-01 -8.9977644e-02 -2.6038742e-01 ...</td>\n",
       "    </tr>\n",
       "    <tr>\n",
       "      <td>4</td>\n",
       "      <td>gevallen</td>\n",
       "      <td>NaN</td>\n",
       "      <td>NaN</td>\n",
       "      <td>[ 0.07864238  0.2405637  -0.41845563  0.336337...</td>\n",
       "    </tr>\n",
       "  </tbody>\n",
       "</table>\n",
       "</div>"
      ],
      "text/plain": [
       "               token label attribute  \\\n",
       "0  merckenweerdigste   NaN       NaN   \n",
       "1         voorvallen   NaN       NaN   \n",
       "2                 en   NaN       NaN   \n",
       "3     daegelijcksche   NaN       NaN   \n",
       "4           gevallen   NaN       NaN   \n",
       "\n",
       "                                              vector  \n",
       "0  [ 0.1705316  -0.0306047  -0.00223772  0.159865...  \n",
       "1  [ 0.21780282  0.66156584 -0.3282248   0.618386...  \n",
       "2  [-0.12152633 -0.34552127  0.6551932   0.300286...  \n",
       "3  [ 1.8886597e-01 -8.9977644e-02 -2.6038742e-01 ...  \n",
       "4  [ 0.07864238  0.2405637  -0.41845563  0.336337...  "
      ]
     },
     "execution_count": 2,
     "metadata": {},
     "output_type": "execute_result"
    }
   ],
   "source": [
    "features_train = pd.read_csv('../output/alle_Brug_Wall/alle_Brug_Wall_train.csv')\n",
    "features_train.head()"
   ]
  },
  {
   "cell_type": "code",
   "execution_count": 3,
   "metadata": {},
   "outputs": [],
   "source": [
    "features_train['label'] = features_train['label'].fillna('O')"
   ]
  },
  {
   "cell_type": "code",
   "execution_count": 4,
   "metadata": {},
   "outputs": [
    {
     "data": {
      "text/html": [
       "<div>\n",
       "<style scoped>\n",
       "    .dataframe tbody tr th:only-of-type {\n",
       "        vertical-align: middle;\n",
       "    }\n",
       "\n",
       "    .dataframe tbody tr th {\n",
       "        vertical-align: top;\n",
       "    }\n",
       "\n",
       "    .dataframe thead th {\n",
       "        text-align: right;\n",
       "    }\n",
       "</style>\n",
       "<table border=\"1\" class=\"dataframe\">\n",
       "  <thead>\n",
       "    <tr style=\"text-align: right;\">\n",
       "      <th></th>\n",
       "      <th>token</th>\n",
       "      <th>label</th>\n",
       "      <th>attribute</th>\n",
       "      <th>vector</th>\n",
       "    </tr>\n",
       "  </thead>\n",
       "  <tbody>\n",
       "    <tr>\n",
       "      <td>0</td>\n",
       "      <td>merckenweerdigste</td>\n",
       "      <td>O</td>\n",
       "      <td>NaN</td>\n",
       "      <td>[ 0.1705316  -0.0306047  -0.00223772  0.159865...</td>\n",
       "    </tr>\n",
       "    <tr>\n",
       "      <td>1</td>\n",
       "      <td>voorvallen</td>\n",
       "      <td>O</td>\n",
       "      <td>NaN</td>\n",
       "      <td>[ 0.21780282  0.66156584 -0.3282248   0.618386...</td>\n",
       "    </tr>\n",
       "    <tr>\n",
       "      <td>2</td>\n",
       "      <td>en</td>\n",
       "      <td>O</td>\n",
       "      <td>NaN</td>\n",
       "      <td>[-0.12152633 -0.34552127  0.6551932   0.300286...</td>\n",
       "    </tr>\n",
       "    <tr>\n",
       "      <td>3</td>\n",
       "      <td>daegelijcksche</td>\n",
       "      <td>O</td>\n",
       "      <td>NaN</td>\n",
       "      <td>[ 1.8886597e-01 -8.9977644e-02 -2.6038742e-01 ...</td>\n",
       "    </tr>\n",
       "    <tr>\n",
       "      <td>4</td>\n",
       "      <td>gevallen</td>\n",
       "      <td>O</td>\n",
       "      <td>NaN</td>\n",
       "      <td>[ 0.07864238  0.2405637  -0.41845563  0.336337...</td>\n",
       "    </tr>\n",
       "  </tbody>\n",
       "</table>\n",
       "</div>"
      ],
      "text/plain": [
       "               token label attribute  \\\n",
       "0  merckenweerdigste     O       NaN   \n",
       "1         voorvallen     O       NaN   \n",
       "2                 en     O       NaN   \n",
       "3     daegelijcksche     O       NaN   \n",
       "4           gevallen     O       NaN   \n",
       "\n",
       "                                              vector  \n",
       "0  [ 0.1705316  -0.0306047  -0.00223772  0.159865...  \n",
       "1  [ 0.21780282  0.66156584 -0.3282248   0.618386...  \n",
       "2  [-0.12152633 -0.34552127  0.6551932   0.300286...  \n",
       "3  [ 1.8886597e-01 -8.9977644e-02 -2.6038742e-01 ...  \n",
       "4  [ 0.07864238  0.2405637  -0.41845563  0.336337...  "
      ]
     },
     "execution_count": 4,
     "metadata": {},
     "output_type": "execute_result"
    }
   ],
   "source": [
    "features_train.head()"
   ]
  },
  {
   "cell_type": "code",
   "execution_count": 10,
   "metadata": {},
   "outputs": [],
   "source": [
    "features_train = features_train.drop('attribute', 1)"
   ]
  },
  {
   "cell_type": "code",
   "execution_count": 22,
   "metadata": {},
   "outputs": [],
   "source": [
    "features_train['vector'] = features_train['vector'].str.replace('[', '')\n",
    "features_train['vector'] = features_train['vector'].str.replace(']', '')\n",
    "features_train['vector'] = features_train['vector'].str.strip()\n",
    "features_train['vector'] = features_train['vector'].str.replace('\\n', ' ')\n",
    "features_train.vector = features_train.vector.replace('\\s+', ' ', regex=True)"
   ]
  },
  {
   "cell_type": "code",
   "execution_count": 23,
   "metadata": {},
   "outputs": [],
   "source": [
    "features_train = pd.concat([features_train[['token', 'label']], features_train['vector'].str.split(' ', expand=True)], axis=1)"
   ]
  },
  {
   "cell_type": "code",
   "execution_count": 24,
   "metadata": {},
   "outputs": [
    {
     "data": {
      "text/html": [
       "<div>\n",
       "<style scoped>\n",
       "    .dataframe tbody tr th:only-of-type {\n",
       "        vertical-align: middle;\n",
       "    }\n",
       "\n",
       "    .dataframe tbody tr th {\n",
       "        vertical-align: top;\n",
       "    }\n",
       "\n",
       "    .dataframe thead th {\n",
       "        text-align: right;\n",
       "    }\n",
       "</style>\n",
       "<table border=\"1\" class=\"dataframe\">\n",
       "  <thead>\n",
       "    <tr style=\"text-align: right;\">\n",
       "      <th></th>\n",
       "      <th>token</th>\n",
       "      <th>label</th>\n",
       "      <th>0</th>\n",
       "      <th>1</th>\n",
       "      <th>2</th>\n",
       "      <th>3</th>\n",
       "      <th>4</th>\n",
       "      <th>5</th>\n",
       "      <th>6</th>\n",
       "      <th>7</th>\n",
       "      <th>...</th>\n",
       "      <th>90</th>\n",
       "      <th>91</th>\n",
       "      <th>92</th>\n",
       "      <th>93</th>\n",
       "      <th>94</th>\n",
       "      <th>95</th>\n",
       "      <th>96</th>\n",
       "      <th>97</th>\n",
       "      <th>98</th>\n",
       "      <th>99</th>\n",
       "    </tr>\n",
       "  </thead>\n",
       "  <tbody>\n",
       "    <tr>\n",
       "      <td>0</td>\n",
       "      <td>merckenweerdigste</td>\n",
       "      <td>O</td>\n",
       "      <td>0.1705316</td>\n",
       "      <td>-0.0306047</td>\n",
       "      <td>-0.00223772</td>\n",
       "      <td>0.15986566</td>\n",
       "      <td>0.25695056</td>\n",
       "      <td>0.7164696</td>\n",
       "      <td>-0.2849065</td>\n",
       "      <td>-0.28343752</td>\n",
       "      <td>...</td>\n",
       "      <td>0.5931331</td>\n",
       "      <td>0.50308883</td>\n",
       "      <td>0.56332666</td>\n",
       "      <td>0.3110606</td>\n",
       "      <td>-0.3533712</td>\n",
       "      <td>-0.16419436</td>\n",
       "      <td>-0.5641507</td>\n",
       "      <td>0.26314676</td>\n",
       "      <td>0.6142619</td>\n",
       "      <td>-1.2206461</td>\n",
       "    </tr>\n",
       "    <tr>\n",
       "      <td>1</td>\n",
       "      <td>voorvallen</td>\n",
       "      <td>O</td>\n",
       "      <td>0.21780282</td>\n",
       "      <td>0.66156584</td>\n",
       "      <td>-0.3282248</td>\n",
       "      <td>0.61838645</td>\n",
       "      <td>0.44451284</td>\n",
       "      <td>0.27286738</td>\n",
       "      <td>-0.42026988</td>\n",
       "      <td>-0.39359006</td>\n",
       "      <td>...</td>\n",
       "      <td>0.32938528</td>\n",
       "      <td>0.2798662</td>\n",
       "      <td>0.779968</td>\n",
       "      <td>0.26112333</td>\n",
       "      <td>-0.28769144</td>\n",
       "      <td>-0.22493325</td>\n",
       "      <td>-0.33288112</td>\n",
       "      <td>0.36485076</td>\n",
       "      <td>0.20955795</td>\n",
       "      <td>-0.8348344</td>\n",
       "    </tr>\n",
       "    <tr>\n",
       "      <td>2</td>\n",
       "      <td>en</td>\n",
       "      <td>O</td>\n",
       "      <td>-0.12152633</td>\n",
       "      <td>-0.34552127</td>\n",
       "      <td>0.6551932</td>\n",
       "      <td>0.30028614</td>\n",
       "      <td>0.28003985</td>\n",
       "      <td>-0.4232091</td>\n",
       "      <td>-0.17500727</td>\n",
       "      <td>-0.10477021</td>\n",
       "      <td>...</td>\n",
       "      <td>0.44797343</td>\n",
       "      <td>-0.11305293</td>\n",
       "      <td>-0.36007732</td>\n",
       "      <td>-0.15637235</td>\n",
       "      <td>-0.48208672</td>\n",
       "      <td>-0.06710143</td>\n",
       "      <td>0.57227874</td>\n",
       "      <td>-0.21997964</td>\n",
       "      <td>0.10103169</td>\n",
       "      <td>-0.37744886</td>\n",
       "    </tr>\n",
       "    <tr>\n",
       "      <td>3</td>\n",
       "      <td>daegelijcksche</td>\n",
       "      <td>O</td>\n",
       "      <td>1.8886597e-01</td>\n",
       "      <td>-8.9977644e-02</td>\n",
       "      <td>-2.6038742e-01</td>\n",
       "      <td>3.3972451e-01</td>\n",
       "      <td>2.6794219e-01</td>\n",
       "      <td>7.1174580e-01</td>\n",
       "      <td>-5.3982091e-01</td>\n",
       "      <td>1.5207386e-01</td>\n",
       "      <td>...</td>\n",
       "      <td>3.5904276e-01</td>\n",
       "      <td>9.2466295e-02</td>\n",
       "      <td>5.6894350e-01</td>\n",
       "      <td>3.6448163e-01</td>\n",
       "      <td>-6.8343125e-02</td>\n",
       "      <td>-3.7124392e-02</td>\n",
       "      <td>-4.2610043e-01</td>\n",
       "      <td>2.4748258e-01</td>\n",
       "      <td>2.7695256e-01</td>\n",
       "      <td>-1.1017174e+00</td>\n",
       "    </tr>\n",
       "    <tr>\n",
       "      <td>4</td>\n",
       "      <td>gevallen</td>\n",
       "      <td>O</td>\n",
       "      <td>0.07864238</td>\n",
       "      <td>0.2405637</td>\n",
       "      <td>-0.41845563</td>\n",
       "      <td>0.33633724</td>\n",
       "      <td>0.5995671</td>\n",
       "      <td>0.08893785</td>\n",
       "      <td>-0.20334555</td>\n",
       "      <td>-0.52136946</td>\n",
       "      <td>...</td>\n",
       "      <td>0.3153123</td>\n",
       "      <td>0.05954508</td>\n",
       "      <td>0.2579233</td>\n",
       "      <td>-0.05005457</td>\n",
       "      <td>-0.55560845</td>\n",
       "      <td>-0.42802623</td>\n",
       "      <td>0.25179183</td>\n",
       "      <td>-0.12036338</td>\n",
       "      <td>0.13740036</td>\n",
       "      <td>-0.9038651</td>\n",
       "    </tr>\n",
       "  </tbody>\n",
       "</table>\n",
       "<p>5 rows × 102 columns</p>\n",
       "</div>"
      ],
      "text/plain": [
       "               token label              0               1               2  \\\n",
       "0  merckenweerdigste     O      0.1705316      -0.0306047     -0.00223772   \n",
       "1         voorvallen     O     0.21780282      0.66156584      -0.3282248   \n",
       "2                 en     O    -0.12152633     -0.34552127       0.6551932   \n",
       "3     daegelijcksche     O  1.8886597e-01  -8.9977644e-02  -2.6038742e-01   \n",
       "4           gevallen     O     0.07864238       0.2405637     -0.41845563   \n",
       "\n",
       "               3              4              5               6              7  \\\n",
       "0     0.15986566     0.25695056      0.7164696      -0.2849065    -0.28343752   \n",
       "1     0.61838645     0.44451284     0.27286738     -0.42026988    -0.39359006   \n",
       "2     0.30028614     0.28003985     -0.4232091     -0.17500727    -0.10477021   \n",
       "3  3.3972451e-01  2.6794219e-01  7.1174580e-01  -5.3982091e-01  1.5207386e-01   \n",
       "4     0.33633724      0.5995671     0.08893785     -0.20334555    -0.52136946   \n",
       "\n",
       "   ...             90             91             92             93  \\\n",
       "0  ...      0.5931331     0.50308883     0.56332666      0.3110606   \n",
       "1  ...     0.32938528      0.2798662       0.779968     0.26112333   \n",
       "2  ...     0.44797343    -0.11305293    -0.36007732    -0.15637235   \n",
       "3  ...  3.5904276e-01  9.2466295e-02  5.6894350e-01  3.6448163e-01   \n",
       "4  ...      0.3153123     0.05954508      0.2579233    -0.05005457   \n",
       "\n",
       "               94              95              96             97  \\\n",
       "0      -0.3533712     -0.16419436      -0.5641507     0.26314676   \n",
       "1     -0.28769144     -0.22493325     -0.33288112     0.36485076   \n",
       "2     -0.48208672     -0.06710143      0.57227874    -0.21997964   \n",
       "3  -6.8343125e-02  -3.7124392e-02  -4.2610043e-01  2.4748258e-01   \n",
       "4     -0.55560845     -0.42802623      0.25179183    -0.12036338   \n",
       "\n",
       "              98              99  \n",
       "0      0.6142619      -1.2206461  \n",
       "1     0.20955795      -0.8348344  \n",
       "2     0.10103169     -0.37744886  \n",
       "3  2.7695256e-01  -1.1017174e+00  \n",
       "4     0.13740036      -0.9038651  \n",
       "\n",
       "[5 rows x 102 columns]"
      ]
     },
     "execution_count": 24,
     "metadata": {},
     "output_type": "execute_result"
    }
   ],
   "source": [
    "features_train.head()"
   ]
  },
  {
   "cell_type": "code",
   "execution_count": 25,
   "metadata": {},
   "outputs": [],
   "source": [
    "features_train.to_csv('../output/alle_Brug_Wall/alle_Brug_Wall_features_train.csv')"
   ]
  },
  {
   "cell_type": "code",
   "execution_count": 3,
   "metadata": {},
   "outputs": [],
   "source": [
    "from csv import reader\n",
    "\n",
    "with open('../output/alle_Brug_Wall/alle_Brug_Wall_features_train.csv', 'r') as read_obj:\n",
    "    csv_reader = reader(read_obj)\n",
    "    sent = list(csv_reader)"
   ]
  },
  {
   "cell_type": "code",
   "execution_count": 4,
   "metadata": {
    "scrolled": true
   },
   "outputs": [
    {
     "data": {
      "text/plain": [
       "['',\n",
       " 'token',\n",
       " 'label',\n",
       " '0',\n",
       " '1',\n",
       " '2',\n",
       " '3',\n",
       " '4',\n",
       " '5',\n",
       " '6',\n",
       " '7',\n",
       " '8',\n",
       " '9',\n",
       " '10',\n",
       " '11',\n",
       " '12',\n",
       " '13',\n",
       " '14',\n",
       " '15',\n",
       " '16',\n",
       " '17',\n",
       " '18',\n",
       " '19',\n",
       " '20',\n",
       " '21',\n",
       " '22',\n",
       " '23',\n",
       " '24',\n",
       " '25',\n",
       " '26',\n",
       " '27',\n",
       " '28',\n",
       " '29',\n",
       " '30',\n",
       " '31',\n",
       " '32',\n",
       " '33',\n",
       " '34',\n",
       " '35',\n",
       " '36',\n",
       " '37',\n",
       " '38',\n",
       " '39',\n",
       " '40',\n",
       " '41',\n",
       " '42',\n",
       " '43',\n",
       " '44',\n",
       " '45',\n",
       " '46',\n",
       " '47',\n",
       " '48',\n",
       " '49',\n",
       " '50',\n",
       " '51',\n",
       " '52',\n",
       " '53',\n",
       " '54',\n",
       " '55',\n",
       " '56',\n",
       " '57',\n",
       " '58',\n",
       " '59',\n",
       " '60',\n",
       " '61',\n",
       " '62',\n",
       " '63',\n",
       " '64',\n",
       " '65',\n",
       " '66',\n",
       " '67',\n",
       " '68',\n",
       " '69',\n",
       " '70',\n",
       " '71',\n",
       " '72',\n",
       " '73',\n",
       " '74',\n",
       " '75',\n",
       " '76',\n",
       " '77',\n",
       " '78',\n",
       " '79',\n",
       " '80',\n",
       " '81',\n",
       " '82',\n",
       " '83',\n",
       " '84',\n",
       " '85',\n",
       " '86',\n",
       " '87',\n",
       " '88',\n",
       " '89',\n",
       " '90',\n",
       " '91',\n",
       " '92',\n",
       " '93',\n",
       " '94',\n",
       " '95',\n",
       " '96',\n",
       " '97',\n",
       " '98',\n",
       " '99']"
      ]
     },
     "execution_count": 4,
     "metadata": {},
     "output_type": "execute_result"
    }
   ],
   "source": [
    "sent.pop(0)"
   ]
  },
  {
   "cell_type": "code",
   "execution_count": 5,
   "metadata": {},
   "outputs": [],
   "source": [
    "train_sents = [sent]"
   ]
  },
  {
   "cell_type": "code",
   "execution_count": 6,
   "metadata": {},
   "outputs": [],
   "source": [
    "sent2 = [item[0:3] for item in sent]"
   ]
  },
  {
   "cell_type": "code",
   "execution_count": 7,
   "metadata": {},
   "outputs": [],
   "source": [
    "train_sents2 = [sent2]"
   ]
  },
  {
   "cell_type": "code",
   "execution_count": 66,
   "metadata": {},
   "outputs": [],
   "source": [
    "X_train = [sent2features(s) for s in train_sents]\n",
    "Y_train = [sent2labels(s) for s in train_sents2]"
   ]
  },
  {
   "cell_type": "markdown",
   "metadata": {},
   "source": [
    "### Split vectors in 100 features"
   ]
  },
  {
   "cell_type": "code",
   "execution_count": 67,
   "metadata": {},
   "outputs": [],
   "source": [
    "for item in X_train:\n",
    "    for word in item:\n",
    "        word_vector = word['vector']\n",
    "        for i, element in enumerate(word_vector):\n",
    "            word['vector{}'.format(i+1)] = element\n",
    "        word.pop('vector')\n",
    "        if '-1vector' in word:\n",
    "            word_vector_prev = word['-1vector']\n",
    "            for i, element in enumerate(word_vector_prev):\n",
    "                word['-1vector{}'.format(i+1)] = element\n",
    "            word.pop('-1vector')\n",
    "        else:\n",
    "            continue\n",
    "            \n",
    "        if '+1vector' in word:\n",
    "            word_vector_next = word['+1vector']\n",
    "            for i, element in enumerate(word_vector_next):\n",
    "                word['+1vector{}'.format(i+1)] = element\n",
    "            word.pop('+1vector')\n",
    "        else:\n",
    "            continue"
   ]
  },
  {
   "cell_type": "markdown",
   "metadata": {},
   "source": [
    "## Prepare test set"
   ]
  },
  {
   "cell_type": "code",
   "execution_count": 117,
   "metadata": {},
   "outputs": [
    {
     "data": {
      "text/html": [
       "<div>\n",
       "<style scoped>\n",
       "    .dataframe tbody tr th:only-of-type {\n",
       "        vertical-align: middle;\n",
       "    }\n",
       "\n",
       "    .dataframe tbody tr th {\n",
       "        vertical-align: top;\n",
       "    }\n",
       "\n",
       "    .dataframe thead th {\n",
       "        text-align: right;\n",
       "    }\n",
       "</style>\n",
       "<table border=\"1\" class=\"dataframe\">\n",
       "  <thead>\n",
       "    <tr style=\"text-align: right;\">\n",
       "      <th></th>\n",
       "      <th>token</th>\n",
       "      <th>label</th>\n",
       "      <th>attribute</th>\n",
       "      <th>vector</th>\n",
       "    </tr>\n",
       "  </thead>\n",
       "  <tbody>\n",
       "    <tr>\n",
       "      <td>0</td>\n",
       "      <td>zijnde</td>\n",
       "      <td>NaN</td>\n",
       "      <td>NaN</td>\n",
       "      <td>[ 0.17457809 -0.06926309 -0.12756872  0.019270...</td>\n",
       "    </tr>\n",
       "    <tr>\n",
       "      <td>1</td>\n",
       "      <td>verders</td>\n",
       "      <td>NaN</td>\n",
       "      <td>NaN</td>\n",
       "      <td>[ 0.14125384  0.06924433  0.18649764  0.143644...</td>\n",
       "    </tr>\n",
       "    <tr>\n",
       "      <td>2</td>\n",
       "      <td>vrugteloos</td>\n",
       "      <td>NaN</td>\n",
       "      <td>NaN</td>\n",
       "      <td>[-0.0497899   0.2280807   0.04021712 -0.037615...</td>\n",
       "    </tr>\n",
       "    <tr>\n",
       "      <td>3</td>\n",
       "      <td>der</td>\n",
       "      <td>NaN</td>\n",
       "      <td>NaN</td>\n",
       "      <td>[ 9.36951023e-04 -1.80363223e-01 -8.54692310e-...</td>\n",
       "    </tr>\n",
       "    <tr>\n",
       "      <td>4</td>\n",
       "      <td>verciercelen</td>\n",
       "      <td>NaN</td>\n",
       "      <td>NaN</td>\n",
       "      <td>[ 0.32109752  0.01169947  0.23957802 -0.057510...</td>\n",
       "    </tr>\n",
       "  </tbody>\n",
       "</table>\n",
       "</div>"
      ],
      "text/plain": [
       "          token label attribute  \\\n",
       "0        zijnde   NaN       NaN   \n",
       "1       verders   NaN       NaN   \n",
       "2    vrugteloos   NaN       NaN   \n",
       "3           der   NaN       NaN   \n",
       "4  verciercelen   NaN       NaN   \n",
       "\n",
       "                                              vector  \n",
       "0  [ 0.17457809 -0.06926309 -0.12756872  0.019270...  \n",
       "1  [ 0.14125384  0.06924433  0.18649764  0.143644...  \n",
       "2  [-0.0497899   0.2280807   0.04021712 -0.037615...  \n",
       "3  [ 9.36951023e-04 -1.80363223e-01 -8.54692310e-...  \n",
       "4  [ 0.32109752  0.01169947  0.23957802 -0.057510...  "
      ]
     },
     "execution_count": 117,
     "metadata": {},
     "output_type": "execute_result"
    }
   ],
   "source": [
    "features_test = pd.read_csv('../output/alle_Brug_Wall/alle_Brug_Wall_test.csv')\n",
    "features_test.head()"
   ]
  },
  {
   "cell_type": "code",
   "execution_count": 118,
   "metadata": {},
   "outputs": [],
   "source": [
    "features_test['label'] = features_test['label'].fillna('O')"
   ]
  },
  {
   "cell_type": "code",
   "execution_count": 119,
   "metadata": {},
   "outputs": [
    {
     "data": {
      "text/html": [
       "<div>\n",
       "<style scoped>\n",
       "    .dataframe tbody tr th:only-of-type {\n",
       "        vertical-align: middle;\n",
       "    }\n",
       "\n",
       "    .dataframe tbody tr th {\n",
       "        vertical-align: top;\n",
       "    }\n",
       "\n",
       "    .dataframe thead th {\n",
       "        text-align: right;\n",
       "    }\n",
       "</style>\n",
       "<table border=\"1\" class=\"dataframe\">\n",
       "  <thead>\n",
       "    <tr style=\"text-align: right;\">\n",
       "      <th></th>\n",
       "      <th>token</th>\n",
       "      <th>label</th>\n",
       "      <th>attribute</th>\n",
       "      <th>vector</th>\n",
       "    </tr>\n",
       "  </thead>\n",
       "  <tbody>\n",
       "    <tr>\n",
       "      <td>0</td>\n",
       "      <td>zijnde</td>\n",
       "      <td>O</td>\n",
       "      <td>NaN</td>\n",
       "      <td>[ 0.17457809 -0.06926309 -0.12756872  0.019270...</td>\n",
       "    </tr>\n",
       "    <tr>\n",
       "      <td>1</td>\n",
       "      <td>verders</td>\n",
       "      <td>O</td>\n",
       "      <td>NaN</td>\n",
       "      <td>[ 0.14125384  0.06924433  0.18649764  0.143644...</td>\n",
       "    </tr>\n",
       "    <tr>\n",
       "      <td>2</td>\n",
       "      <td>vrugteloos</td>\n",
       "      <td>O</td>\n",
       "      <td>NaN</td>\n",
       "      <td>[-0.0497899   0.2280807   0.04021712 -0.037615...</td>\n",
       "    </tr>\n",
       "    <tr>\n",
       "      <td>3</td>\n",
       "      <td>der</td>\n",
       "      <td>O</td>\n",
       "      <td>NaN</td>\n",
       "      <td>[ 9.36951023e-04 -1.80363223e-01 -8.54692310e-...</td>\n",
       "    </tr>\n",
       "    <tr>\n",
       "      <td>4</td>\n",
       "      <td>verciercelen</td>\n",
       "      <td>O</td>\n",
       "      <td>NaN</td>\n",
       "      <td>[ 0.32109752  0.01169947  0.23957802 -0.057510...</td>\n",
       "    </tr>\n",
       "  </tbody>\n",
       "</table>\n",
       "</div>"
      ],
      "text/plain": [
       "          token label attribute  \\\n",
       "0        zijnde     O       NaN   \n",
       "1       verders     O       NaN   \n",
       "2    vrugteloos     O       NaN   \n",
       "3           der     O       NaN   \n",
       "4  verciercelen     O       NaN   \n",
       "\n",
       "                                              vector  \n",
       "0  [ 0.17457809 -0.06926309 -0.12756872  0.019270...  \n",
       "1  [ 0.14125384  0.06924433  0.18649764  0.143644...  \n",
       "2  [-0.0497899   0.2280807   0.04021712 -0.037615...  \n",
       "3  [ 9.36951023e-04 -1.80363223e-01 -8.54692310e-...  \n",
       "4  [ 0.32109752  0.01169947  0.23957802 -0.057510...  "
      ]
     },
     "execution_count": 119,
     "metadata": {},
     "output_type": "execute_result"
    }
   ],
   "source": [
    "features_test.head()"
   ]
  },
  {
   "cell_type": "code",
   "execution_count": 120,
   "metadata": {},
   "outputs": [],
   "source": [
    "features_test = features_test.drop('attribute', 1)"
   ]
  },
  {
   "cell_type": "code",
   "execution_count": 121,
   "metadata": {},
   "outputs": [],
   "source": [
    "features_test['vector'] = features_test['vector'].str.replace('[', '')\n",
    "features_test['vector'] = features_test['vector'].str.replace(']', '')\n",
    "features_test['vector'] = features_test['vector'].str.strip()\n",
    "features_test['vector'] = features_test['vector'].str.replace('\\n', ' ')\n",
    "features_test.vector = features_test.vector.replace('\\s+', ' ', regex=True)"
   ]
  },
  {
   "cell_type": "code",
   "execution_count": 122,
   "metadata": {},
   "outputs": [],
   "source": [
    "features_test = pd.concat([features_test[['token', 'label']], features_test['vector'].str.split(' ', expand=True)], axis=1)"
   ]
  },
  {
   "cell_type": "code",
   "execution_count": 124,
   "metadata": {},
   "outputs": [],
   "source": [
    "features_test.to_csv('../output/alle_Brug_Wall/alle_Brug_Wall_features_test.csv')"
   ]
  },
  {
   "cell_type": "code",
   "execution_count": 9,
   "metadata": {},
   "outputs": [],
   "source": [
    "with open('../output/alle_Brug_Wall/alle_Brug_Wall_features_test.csv', 'r') as read_obj:\n",
    "    csv_reader = reader(read_obj)\n",
    "    sent3 = list(csv_reader)"
   ]
  },
  {
   "cell_type": "code",
   "execution_count": 10,
   "metadata": {
    "collapsed": true
   },
   "outputs": [
    {
     "data": {
      "text/plain": [
       "['',\n",
       " 'token',\n",
       " 'label',\n",
       " '0',\n",
       " '1',\n",
       " '2',\n",
       " '3',\n",
       " '4',\n",
       " '5',\n",
       " '6',\n",
       " '7',\n",
       " '8',\n",
       " '9',\n",
       " '10',\n",
       " '11',\n",
       " '12',\n",
       " '13',\n",
       " '14',\n",
       " '15',\n",
       " '16',\n",
       " '17',\n",
       " '18',\n",
       " '19',\n",
       " '20',\n",
       " '21',\n",
       " '22',\n",
       " '23',\n",
       " '24',\n",
       " '25',\n",
       " '26',\n",
       " '27',\n",
       " '28',\n",
       " '29',\n",
       " '30',\n",
       " '31',\n",
       " '32',\n",
       " '33',\n",
       " '34',\n",
       " '35',\n",
       " '36',\n",
       " '37',\n",
       " '38',\n",
       " '39',\n",
       " '40',\n",
       " '41',\n",
       " '42',\n",
       " '43',\n",
       " '44',\n",
       " '45',\n",
       " '46',\n",
       " '47',\n",
       " '48',\n",
       " '49',\n",
       " '50',\n",
       " '51',\n",
       " '52',\n",
       " '53',\n",
       " '54',\n",
       " '55',\n",
       " '56',\n",
       " '57',\n",
       " '58',\n",
       " '59',\n",
       " '60',\n",
       " '61',\n",
       " '62',\n",
       " '63',\n",
       " '64',\n",
       " '65',\n",
       " '66',\n",
       " '67',\n",
       " '68',\n",
       " '69',\n",
       " '70',\n",
       " '71',\n",
       " '72',\n",
       " '73',\n",
       " '74',\n",
       " '75',\n",
       " '76',\n",
       " '77',\n",
       " '78',\n",
       " '79',\n",
       " '80',\n",
       " '81',\n",
       " '82',\n",
       " '83',\n",
       " '84',\n",
       " '85',\n",
       " '86',\n",
       " '87',\n",
       " '88',\n",
       " '89',\n",
       " '90',\n",
       " '91',\n",
       " '92',\n",
       " '93',\n",
       " '94',\n",
       " '95',\n",
       " '96',\n",
       " '97',\n",
       " '98',\n",
       " '99']"
      ]
     },
     "execution_count": 10,
     "metadata": {},
     "output_type": "execute_result"
    }
   ],
   "source": [
    "sent3.pop(0)"
   ]
  },
  {
   "cell_type": "code",
   "execution_count": 11,
   "metadata": {},
   "outputs": [],
   "source": [
    "test_sents = [sent3]"
   ]
  },
  {
   "cell_type": "code",
   "execution_count": 12,
   "metadata": {},
   "outputs": [],
   "source": [
    "sent4 = [item[0:3] for item in sent3]"
   ]
  },
  {
   "cell_type": "code",
   "execution_count": 13,
   "metadata": {},
   "outputs": [],
   "source": [
    "test_sents2 = [sent4]"
   ]
  },
  {
   "cell_type": "code",
   "execution_count": 73,
   "metadata": {},
   "outputs": [],
   "source": [
    "X_test = [sent2features(s) for s in test_sents]\n",
    "Y_test = [sent2labels(s) for s in test_sents2]"
   ]
  },
  {
   "cell_type": "markdown",
   "metadata": {},
   "source": [
    "### Split vectors into 100 features"
   ]
  },
  {
   "cell_type": "code",
   "execution_count": 74,
   "metadata": {},
   "outputs": [],
   "source": [
    "for item in X_test:\n",
    "    for word in item:\n",
    "        word_vector = word['vector']\n",
    "        for i, element in enumerate(word_vector):\n",
    "            word['vector{}'.format(i+1)] = element\n",
    "        word.pop('vector')\n",
    "        if '-1vector' in word:\n",
    "            word_vector_prev = word['-1vector']\n",
    "            for i, element in enumerate(word_vector_prev):\n",
    "                word['-1vector{}'.format(i+1)] = element\n",
    "            word.pop('-1vector')\n",
    "        else:\n",
    "            continue\n",
    "            \n",
    "        if '+1vector' in word:\n",
    "            word_vector_next = word['+1vector']\n",
    "            for i, element in enumerate(word_vector_next):\n",
    "                word['+1vector{}'.format(i+1)] = element\n",
    "            word.pop('+1vector')\n",
    "        else:\n",
    "            continue"
   ]
  },
  {
   "cell_type": "markdown",
   "metadata": {},
   "source": [
    "## Train CRF-model"
   ]
  },
  {
   "cell_type": "code",
   "execution_count": 76,
   "metadata": {},
   "outputs": [
    {
     "data": {
      "text/plain": [
       "CRF(algorithm='lbfgs', all_possible_states=None, all_possible_transitions=True,\n",
       "    averaging=None, c=None, c1=0.1, c2=0.1, calibration_candidates=None,\n",
       "    calibration_eta=None, calibration_max_trials=None, calibration_rate=None,\n",
       "    calibration_samples=None, delta=None, epsilon=None, error_sensitive=None,\n",
       "    gamma=None, keep_tempfiles=None, linesearch=None, max_iterations=100,\n",
       "    max_linesearch=None, min_freq=None, model_filename=None, num_memories=None,\n",
       "    pa_type=None, period=None, trainer_cls=None, variance=None, verbose=False)"
      ]
     },
     "execution_count": 76,
     "metadata": {},
     "output_type": "execute_result"
    }
   ],
   "source": [
    "crf = sklearn_crfsuite.CRF(\n",
    "    algorithm='lbfgs',\n",
    "    c1=0.1,\n",
    "    c2=0.1,\n",
    "    max_iterations=100,\n",
    "    all_possible_transitions=True\n",
    ")\n",
    "crf.fit(X_train, Y_train)"
   ]
  },
  {
   "cell_type": "markdown",
   "metadata": {},
   "source": [
    "## Evaluate the model"
   ]
  },
  {
   "cell_type": "code",
   "execution_count": 77,
   "metadata": {},
   "outputs": [],
   "source": [
    "labels = list(crf.classes_)\n",
    "labels.remove('O')"
   ]
  },
  {
   "cell_type": "code",
   "execution_count": 78,
   "metadata": {},
   "outputs": [
    {
     "data": {
      "text/plain": [
       "0.5554392098430706"
      ]
     },
     "execution_count": 78,
     "metadata": {},
     "output_type": "execute_result"
    }
   ],
   "source": [
    "Y_pred = crf.predict(X_test)\n",
    "metrics.flat_f1_score(Y_test, Y_pred,\n",
    "                      average='weighted', labels=labels)"
   ]
  },
  {
   "cell_type": "code",
   "execution_count": 79,
   "metadata": {},
   "outputs": [
    {
     "name": "stdout",
     "output_type": "stream",
     "text": [
      "                  precision    recall  f1-score   support\n",
      "\n",
      "    waarneming-B      0.643     0.552     0.594       134\n",
      "     ontvanger-B      0.828     0.578     0.681        83\n",
      "informatiebron-B      0.513     0.488     0.500       121\n",
      "informatiebron-I      0.670     0.448     0.537       145\n",
      "    waarneming-I      0.500     0.143     0.222         7\n",
      "     ontvanger-I      0.125     0.111     0.118         9\n",
      "\n",
      "       micro avg      0.628     0.497     0.555       499\n",
      "       macro avg      0.547     0.387     0.442       499\n",
      "    weighted avg      0.639     0.497     0.555       499\n",
      "\n"
     ]
    }
   ],
   "source": [
    "print(metrics.flat_classification_report(\n",
    "    Y_test, Y_pred, labels=labels, digits=3\n",
    "))"
   ]
  },
  {
   "cell_type": "code",
   "execution_count": 190,
   "metadata": {},
   "outputs": [
    {
     "name": "stdout",
     "output_type": "stream",
     "text": [
      "Fitting 3 folds for each of 50 candidates, totalling 150 fits\n"
     ]
    },
    {
     "ename": "ValueError",
     "evalue": "Cannot have number of splits n_splits=3 greater than the number of samples: n_samples=1.",
     "output_type": "error",
     "traceback": [
      "\u001b[0;31m---------------------------------------------------------------------------\u001b[0m",
      "\u001b[0;31mValueError\u001b[0m                                Traceback (most recent call last)",
      "\u001b[0;32m<timed exec>\u001b[0m in \u001b[0;36m<module>\u001b[0;34m\u001b[0m\n",
      "\u001b[0;32m~/anaconda3/lib/python3.6/site-packages/sklearn/model_selection/_search.py\u001b[0m in \u001b[0;36mfit\u001b[0;34m(self, X, y, groups, **fit_params)\u001b[0m\n\u001b[1;32m    686\u001b[0m                 \u001b[0;32mreturn\u001b[0m \u001b[0mresults\u001b[0m\u001b[0;34m\u001b[0m\u001b[0;34m\u001b[0m\u001b[0m\n\u001b[1;32m    687\u001b[0m \u001b[0;34m\u001b[0m\u001b[0m\n\u001b[0;32m--> 688\u001b[0;31m             \u001b[0mself\u001b[0m\u001b[0;34m.\u001b[0m\u001b[0m_run_search\u001b[0m\u001b[0;34m(\u001b[0m\u001b[0mevaluate_candidates\u001b[0m\u001b[0;34m)\u001b[0m\u001b[0;34m\u001b[0m\u001b[0;34m\u001b[0m\u001b[0m\n\u001b[0m\u001b[1;32m    689\u001b[0m \u001b[0;34m\u001b[0m\u001b[0m\n\u001b[1;32m    690\u001b[0m         \u001b[0;31m# For multi-metric evaluation, store the best_index_, best_params_ and\u001b[0m\u001b[0;34m\u001b[0m\u001b[0;34m\u001b[0m\u001b[0;34m\u001b[0m\u001b[0m\n",
      "\u001b[0;32m~/anaconda3/lib/python3.6/site-packages/sklearn/model_selection/_search.py\u001b[0m in \u001b[0;36m_run_search\u001b[0;34m(self, evaluate_candidates)\u001b[0m\n\u001b[1;32m   1467\u001b[0m         evaluate_candidates(ParameterSampler(\n\u001b[1;32m   1468\u001b[0m             \u001b[0mself\u001b[0m\u001b[0;34m.\u001b[0m\u001b[0mparam_distributions\u001b[0m\u001b[0;34m,\u001b[0m \u001b[0mself\u001b[0m\u001b[0;34m.\u001b[0m\u001b[0mn_iter\u001b[0m\u001b[0;34m,\u001b[0m\u001b[0;34m\u001b[0m\u001b[0;34m\u001b[0m\u001b[0m\n\u001b[0;32m-> 1469\u001b[0;31m             random_state=self.random_state))\n\u001b[0m",
      "\u001b[0;32m~/anaconda3/lib/python3.6/site-packages/sklearn/model_selection/_search.py\u001b[0m in \u001b[0;36mevaluate_candidates\u001b[0;34m(candidate_params)\u001b[0m\n\u001b[1;32m    665\u001b[0m                                \u001b[0;32mfor\u001b[0m \u001b[0mparameters\u001b[0m\u001b[0;34m,\u001b[0m \u001b[0;34m(\u001b[0m\u001b[0mtrain\u001b[0m\u001b[0;34m,\u001b[0m \u001b[0mtest\u001b[0m\u001b[0;34m)\u001b[0m\u001b[0;34m\u001b[0m\u001b[0;34m\u001b[0m\u001b[0m\n\u001b[1;32m    666\u001b[0m                                in product(candidate_params,\n\u001b[0;32m--> 667\u001b[0;31m                                           cv.split(X, y, groups)))\n\u001b[0m\u001b[1;32m    668\u001b[0m \u001b[0;34m\u001b[0m\u001b[0m\n\u001b[1;32m    669\u001b[0m                 \u001b[0;32mif\u001b[0m \u001b[0mlen\u001b[0m\u001b[0;34m(\u001b[0m\u001b[0mout\u001b[0m\u001b[0;34m)\u001b[0m \u001b[0;34m<\u001b[0m \u001b[0;36m1\u001b[0m\u001b[0;34m:\u001b[0m\u001b[0;34m\u001b[0m\u001b[0;34m\u001b[0m\u001b[0m\n",
      "\u001b[0;32m~/anaconda3/lib/python3.6/site-packages/sklearn/model_selection/_split.py\u001b[0m in \u001b[0;36msplit\u001b[0;34m(self, X, y, groups)\u001b[0m\n\u001b[1;32m    331\u001b[0m                 (\"Cannot have number of splits n_splits={0} greater\"\n\u001b[1;32m    332\u001b[0m                  \" than the number of samples: n_samples={1}.\")\n\u001b[0;32m--> 333\u001b[0;31m                 .format(self.n_splits, n_samples))\n\u001b[0m\u001b[1;32m    334\u001b[0m \u001b[0;34m\u001b[0m\u001b[0m\n\u001b[1;32m    335\u001b[0m         \u001b[0;32mfor\u001b[0m \u001b[0mtrain\u001b[0m\u001b[0;34m,\u001b[0m \u001b[0mtest\u001b[0m \u001b[0;32min\u001b[0m \u001b[0msuper\u001b[0m\u001b[0;34m(\u001b[0m\u001b[0;34m)\u001b[0m\u001b[0;34m.\u001b[0m\u001b[0msplit\u001b[0m\u001b[0;34m(\u001b[0m\u001b[0mX\u001b[0m\u001b[0;34m,\u001b[0m \u001b[0my\u001b[0m\u001b[0;34m,\u001b[0m \u001b[0mgroups\u001b[0m\u001b[0;34m)\u001b[0m\u001b[0;34m:\u001b[0m\u001b[0;34m\u001b[0m\u001b[0;34m\u001b[0m\u001b[0m\n",
      "\u001b[0;31mValueError\u001b[0m: Cannot have number of splits n_splits=3 greater than the number of samples: n_samples=1."
     ]
    }
   ],
   "source": [
    "%%time #Not working if n_samples = 1\n",
    "# define fixed parameters and parameters to search\n",
    "crf = sklearn_crfsuite.CRF(\n",
    "    algorithm='lbfgs',\n",
    "    max_iterations=100,\n",
    "    all_possible_transitions=True\n",
    ")\n",
    "params_space = {\n",
    "    'c1': scipy.stats.expon(scale=0.5),\n",
    "    'c2': scipy.stats.expon(scale=0.05),\n",
    "}\n",
    "\n",
    "# use the same metric for evaluation\n",
    "f1_scorer = make_scorer(metrics.flat_f1_score,\n",
    "                        average='weighted', labels=labels)\n",
    "\n",
    "# search\n",
    "rs = RandomizedSearchCV(crf, params_space,\n",
    "                        cv=3,\n",
    "                        verbose=1,\n",
    "                        n_jobs=-1,\n",
    "                        n_iter=50,\n",
    "                        scoring=f1_scorer)\n",
    "rs.fit(X_train, Y_train)"
   ]
  },
  {
   "cell_type": "code",
   "execution_count": 80,
   "metadata": {
    "scrolled": true
   },
   "outputs": [
    {
     "name": "stdout",
     "output_type": "stream",
     "text": [
      "Top likely transitions:\n",
      "O      -> O       4.163518\n",
      "ontvanger-I -> ontvanger-I 4.029864\n",
      "ontvanger-B -> ontvanger-I 3.232955\n",
      "informatiebron-I -> informatiebron-I 2.888268\n",
      "waarneming-I -> waarneming-I 2.374591\n",
      "informatiebron-B -> informatiebron-I 1.727776\n",
      "waarneming-B -> waarneming-I 1.091248\n",
      "waarneming-B -> ontvanger-B 0.940000\n",
      "O      -> informatiebron-B 0.650229\n",
      "ontvanger-B -> waarneming-B 0.183771\n",
      "informatiebron-B -> waarneming-B 0.168950\n",
      "waarneming-I -> O       0.033862\n",
      "ontvanger-I -> ontvanger-B -0.228920\n",
      "waarneming-I -> waarneming-B -0.267929\n",
      "waarneming-B -> O       -0.269331\n",
      "O      -> waarneming-B -0.335387\n",
      "ontvanger-I -> waarneming-B -0.439106\n",
      "informatiebron-I -> waarneming-I -0.443954\n",
      "informatiebron-I -> waarneming-B -0.472384\n",
      "ontvanger-B -> ontvanger-B -0.483306\n",
      "\n",
      "Top unlikely transitions:\n",
      "O      -> ontvanger-B -0.816157\n",
      "waarneming-I -> informatiebron-I -0.817049\n",
      "informatiebron-I -> ontvanger-B -0.943036\n",
      "informatiebron-B -> ontvanger-I -0.977838\n",
      "informatiebron-I -> O       -0.982958\n",
      "ontvanger-I -> O       -1.042322\n",
      "informatiebron-B -> O       -1.117847\n",
      "ontvanger-I -> informatiebron-I -1.313639\n",
      "waarneming-I -> informatiebron-B -1.418430\n",
      "informatiebron-B -> ontvanger-B -1.421968\n",
      "waarneming-B -> waarneming-B -1.516441\n",
      "ontvanger-B -> informatiebron-I -1.818030\n",
      "ontvanger-B -> O       -1.842041\n",
      "informatiebron-I -> informatiebron-B -2.491267\n",
      "waarneming-B -> informatiebron-I -2.639646\n",
      "O      -> waarneming-I -2.654814\n",
      "ontvanger-B -> informatiebron-B -2.794694\n",
      "O      -> ontvanger-I -3.398610\n",
      "informatiebron-B -> informatiebron-B -3.417730\n",
      "O      -> informatiebron-I -5.841407\n"
     ]
    }
   ],
   "source": [
    "from collections import Counter\n",
    "\n",
    "def print_transitions(trans_features):\n",
    "    for (label_from, label_to), weight in trans_features:\n",
    "        print(\"%-6s -> %-7s %0.6f\" % (label_from, label_to, weight))\n",
    "\n",
    "print(\"Top likely transitions:\")\n",
    "print_transitions(Counter(crf.transition_features_).most_common(20))\n",
    "\n",
    "print(\"\\nTop unlikely transitions:\")\n",
    "print_transitions(Counter(crf.transition_features_).most_common()[-20:])"
   ]
  },
  {
   "cell_type": "code",
   "execution_count": 81,
   "metadata": {},
   "outputs": [
    {
     "name": "stdout",
     "output_type": "stream",
     "text": [
      "Top positive:\n",
      "1.988054 informatiebron-I +1:word.isdigit()\n",
      "1.744118 waarneming-B word[-5:]:lesen\n",
      "1.472060 waarneming-B word[-5:]:ndigt\n",
      "1.466354 O        bias\n",
      "1.145304 informatiebron-B -1:word[5:]:nde\n",
      "0.997835 O        -1:word[5:]:r\n",
      "0.985641 informatiebron-B word[5:]:he\n",
      "0.965363 waarneming-B word[5:]:men\n",
      "0.886319 informatiebron-B word[-5:]:bulle\n",
      "0.853099 informatiebron-B word[-5:]:ntiën\n",
      "0.840574 informatiebron-B -1:word[-5:]:enden\n",
      "0.834066 O        +1:word[5:]:den\n",
      "0.808228 O        word[-5:]:heden\n",
      "0.805295 waarneming-B word[-5:]:reijt\n",
      "0.791764 informatiebron-I -1:word[-5:]:ijcke\n",
      "0.786695 informatiebron-B word[-5:]:chten\n",
      "0.763428 waarneming-B word[-5:]:hoort\n",
      "0.732903 O        word[5:]:\n",
      "0.726139 O        -1:word[-5:]:aegen\n",
      "0.695841 O        word[-5:]:huijs\n",
      "0.694459 O        word[-5:]:orden\n",
      "0.692423 O        word[-5:]:elijk\n",
      "0.675154 informatiebron-B word[-5:]:iften\n",
      "0.670968 waarneming-B -1:word[-5:]:erael\n",
      "0.667475 informatiebron-I -1:word[-5:]:ebode\n",
      "0.647987 informatiebron-B -1:word[-5:]:eenen\n",
      "0.642968 waarneming-I +1:word[5:]:n\n",
      "0.636563 informatiebron-I +1:word[-5:]:ijcke\n",
      "0.631215 informatiebron-B word[-5:]:entie\n",
      "0.626808 waarneming-B -1:word[5:]:ten\n",
      "\n",
      "Top negative:\n",
      "-0.498965 O        -1:word[-5:]:lcken\n",
      "-0.509509 O        word[5:]:eling\n",
      "-0.544681 waarneming-B -1:word[5:]:nde\n",
      "-0.545439 O        word[-5:]:ingen\n",
      "-0.577312 O        -1:word[-5:]:erael\n",
      "-0.597465 informatiebron-B +1:word[5:]:e\n",
      "-0.606205 O        +1:word[5:]:ete\n",
      "-0.612790 O        word[5:]:nen\n",
      "-0.613756 informatiebron-I -1:word[5:]:s\n",
      "-0.623388 waarneming-B bias\n",
      "-0.636658 O        word[-5:]:iften\n",
      "-0.653823 O        +1:word.isdigit()\n",
      "-0.657158 ontvanger-B +1:word[5:]:n\n",
      "-0.668806 O        word[5:]:et\n",
      "-0.701968 waarneming-I bias\n",
      "-0.783753 O        word[-5:]:chten\n",
      "-0.831910 O        word[-5:]:ntiën\n",
      "-0.837172 O        word[-5:]:brief\n",
      "-0.864764 O        word[5:]:ngen\n",
      "-0.884834 waarneming-B word[5:]:\n",
      "-0.905543 ontvanger-B -1:word.isdigit()\n",
      "-0.951274 ontvanger-B bias\n",
      "-1.003886 waarneming-B -1:word[5:]:e\n",
      "-1.018821 O        word[5:]:hten\n",
      "-1.021938 O        -1:word[-5:]:anden\n",
      "-1.028979 O        word[5:]:te\n",
      "-1.095525 informatiebron-B word[5:]:n\n",
      "-1.251961 informatiebron-B word[5:]:e\n",
      "-1.288309 O        word[5:]:ete\n",
      "-1.411874 O        word[-5:]:lesen\n"
     ]
    }
   ],
   "source": [
    "def print_state_features(state_features):\n",
    "    for (attr, label), weight in state_features:\n",
    "        print(\"%0.6f %-8s %s\" % (weight, label, attr))\n",
    "\n",
    "print(\"Top positive:\")\n",
    "print_state_features(Counter(crf.state_features_).most_common(30))\n",
    "\n",
    "print(\"\\nTop negative:\")\n",
    "print_state_features(Counter(crf.state_features_).most_common()[-30:])"
   ]
  },
  {
   "cell_type": "markdown",
   "metadata": {},
   "source": [
    "## Merge label and predicted label"
   ]
  },
  {
   "cell_type": "code",
   "execution_count": 82,
   "metadata": {},
   "outputs": [],
   "source": [
    "from itertools import chain\n",
    "\n",
    "new_Y_pred = list(chain.from_iterable(Y_pred))"
   ]
  },
  {
   "cell_type": "code",
   "execution_count": 83,
   "metadata": {},
   "outputs": [],
   "source": [
    "result = [a+[x] for a,x in zip(sent4,new_Y_pred)]"
   ]
  },
  {
   "cell_type": "code",
   "execution_count": 84,
   "metadata": {},
   "outputs": [],
   "source": [
    "df = pd.DataFrame(result, columns=['nr', 'token', 'label', 'pred']).drop('nr', 1)"
   ]
  },
  {
   "cell_type": "code",
   "execution_count": 85,
   "metadata": {},
   "outputs": [],
   "source": [
    "df.to_csv('test_pred.csv')"
   ]
  }
 ],
 "metadata": {
  "kernelspec": {
   "display_name": "Python 3",
   "language": "python",
   "name": "python3"
  },
  "language_info": {
   "codemirror_mode": {
    "name": "ipython",
    "version": 3
   },
   "file_extension": ".py",
   "mimetype": "text/x-python",
   "name": "python",
   "nbconvert_exporter": "python",
   "pygments_lexer": "ipython3",
   "version": "3.6.8"
  }
 },
 "nbformat": 4,
 "nbformat_minor": 2
}
